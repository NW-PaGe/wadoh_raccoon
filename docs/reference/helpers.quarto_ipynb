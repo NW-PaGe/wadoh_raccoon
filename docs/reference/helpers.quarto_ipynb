{
  "cells": [
    {
      "cell_type": "markdown",
      "metadata": {},
      "source": [
        "# helpers { #src.wadoh_raccoon.utils.helpers }\n",
        "\n",
        "`wadoh_raccoon.utils.helpers`\n",
        "\n",
        "\n",
        "\n",
        "## Functions\n",
        "\n",
        "| Name | Description |\n",
        "| --- | --- |\n",
        "| [date_format](#src.wadoh_raccoon.utils.helpers.date_format) | Format Dates |\n",
        "| [gt_style](#src.wadoh_raccoon.utils.helpers.gt_style) | Style for GT Tables |\n",
        "| [save_raw_values](#src.wadoh_raccoon.utils.helpers.save_raw_values) | save raw values |\n",
        "\n",
        "### date_format { #src.wadoh_raccoon.utils.helpers.date_format }\n",
        "\n",
        "```python\n",
        "wadoh_raccoon.utils.helpers.date_format(col)\n",
        "```\n",
        "\n",
        "Format Dates\n",
        "\n",
        "Convert string dates into a yyyy-mm-dd format. \n",
        "The function uses pl.coalesce to try to process different formats.\n",
        "For example, it will first try to convert m/d/y, and then if that doesn't work it will try d/m/y.\n",
        "\n",
        "**Note: it won't attempt to convert excel dates.**\n",
        "\n",
        "#### Usage {.doc-section .doc-section-usage}\n",
        "\n",
        "To be applied to a string date column.\n",
        "\n",
        "#### Parameters {.doc-section .doc-section-parameters}\n",
        "\n",
        "| Name   | Type   | Description                     | Default    |\n",
        "|--------|--------|---------------------------------|------------|\n",
        "| col    | str    | a string column that has a date | _required_ |\n",
        "\n",
        "#### Returns {.doc-section .doc-section-returns}\n",
        "\n",
        "| Name        | Type   | Description   |\n",
        "|-------------|--------|---------------|\n",
        "| output_date | date   | a date column |\n",
        "\n",
        "#### Examples {.doc-section .doc-section-examples}\n"
      ],
      "id": "ec622f6b"
    },
    {
      "cell_type": "code",
      "metadata": {},
      "source": [
        "import polars as pl\n",
        "from wadoh_raccoon.utils import helpers\n",
        "\n",
        "\n",
        "df = pl.DataFrame({\n",
        "    \"dates\": [\n",
        "        \"2024-10-30\",     # ISO format\n",
        "        \"30/10/2024\",     # European format\n",
        "        \"10/20/2024\",     # US format\n",
        "        \"10-30-2024\",     # US format\n",
        "        \"October 30, 2024\",  # Full month name format,\n",
        "        \"45496\",           # an excel date LOL\n",
        "        \"2022-12-27 08:26:49\"\n",
        "    ]\n",
        "})\n",
        "\n",
        "helpers.gt_style(\n",
        "    df\n",
        "    .with_columns(\n",
        "        new_date=helpers.date_format('dates')\n",
        "    )\n",
        ")"
      ],
      "id": "41bbd58d",
      "execution_count": null,
      "outputs": []
    },
    {
      "cell_type": "markdown",
      "metadata": {},
      "source": [
        "### gt_style { #src.wadoh_raccoon.utils.helpers.gt_style }\n",
        "\n",
        "```python\n",
        "wadoh_raccoon.utils.helpers.gt_style(\n",
        "    df_inp,\n",
        "    title='',\n",
        "    subtitle='',\n",
        "    add_striping_inp=True,\n",
        "    index_inp=True,\n",
        ")\n",
        "```\n",
        "\n",
        "Style for GT Tables\n",
        "\n",
        "#### Usage {.doc-section .doc-section-usage}\n",
        "\n",
        "Apply this style to a Polars DataFrame\n",
        "\n",
        "#### Examples {.doc-section .doc-section-examples}\n"
      ],
      "id": "03e94a0b"
    },
    {
      "cell_type": "code",
      "metadata": {},
      "source": [
        "import polars as pl\n",
        "from wadoh_raccoon.utils import helpers\n",
        "df = pl.DataFrame({\n",
        "    \"x\": [1,1,2],\n",
        "    \"y\": [1,2,3]\n",
        "})"
      ],
      "id": "599b5132",
      "execution_count": null,
      "outputs": []
    },
    {
      "cell_type": "markdown",
      "metadata": {},
      "source": [
        "A table with a title/subtitle:\n"
      ],
      "id": "edd6fef3"
    },
    {
      "cell_type": "code",
      "metadata": {},
      "source": [
        "helpers.gt_style(df_inp=df,title=\"My Title\",subtitle=\"My Subtitle\")"
      ],
      "id": "c6464b02",
      "execution_count": null,
      "outputs": []
    },
    {
      "cell_type": "markdown",
      "metadata": {},
      "source": [
        "No title/subtitle"
      ],
      "id": "7ab98337"
    },
    {
      "cell_type": "code",
      "metadata": {},
      "source": [
        "helpers.gt_style(df_inp=df)"
      ],
      "id": "4deb6d62",
      "execution_count": null,
      "outputs": []
    },
    {
      "cell_type": "markdown",
      "metadata": {},
      "source": [
        "Without an index:"
      ],
      "id": "7c3a1f84"
    },
    {
      "cell_type": "code",
      "metadata": {},
      "source": [
        "helpers.gt_style(df_inp=df,index_inp=False)"
      ],
      "id": "2a84317b",
      "execution_count": null,
      "outputs": []
    },
    {
      "cell_type": "markdown",
      "metadata": {},
      "source": [
        "Without striping:"
      ],
      "id": "6b10c21d"
    },
    {
      "cell_type": "code",
      "metadata": {},
      "source": [
        "helpers.gt_style(df_inp=df,add_striping_inp=False)"
      ],
      "id": "881e439d",
      "execution_count": null,
      "outputs": []
    },
    {
      "cell_type": "markdown",
      "metadata": {},
      "source": [
        "### save_raw_values { #src.wadoh_raccoon.utils.helpers.save_raw_values }\n",
        "\n",
        "```python\n",
        "wadoh_raccoon.utils.helpers.save_raw_values(df_inp, primary_key_col)\n",
        "```\n",
        "\n",
        "save raw values\n",
        "\n",
        "#### Usage {.doc-section .doc-section-usage}\n",
        "\n",
        "Converts a polars dataframe into a dataframe with all columns in a struct column.\n",
        "It's good for saving raw outputs of data.\n",
        "\n",
        "#### Parameters {.doc-section .doc-section-parameters}\n",
        "\n",
        "| Name            | Type         | Description                                                           | Default    |\n",
        "|-----------------|--------------|-----------------------------------------------------------------------|------------|\n",
        "| df_inp          | pl.DataFrame | a polars dataframe                                                    | _required_ |\n",
        "| primary_key_col | str          | column name for the primary key (submission key, not person/case key) | _required_ |\n",
        "\n",
        "#### Returns {.doc-section .doc-section-returns}\n",
        "\n",
        "| Name   | Type         | Description   |\n",
        "|--------|--------------|---------------|\n",
        "| df     | pl.DataFrame | a dataframe   |\n",
        "\n",
        "#### Examples {.doc-section .doc-section-examples}\n"
      ],
      "id": "9df2fb73"
    },
    {
      "cell_type": "code",
      "metadata": {},
      "source": [
        "import polars as pl\n",
        "from wadoh_raccoon.utils import helpers\n",
        "\n",
        "data = pl.DataFrame({\n",
        "    \"lab_name\": [\"PHL\", \"MFT\", \"ELR\",\"PHL\"],\n",
        "    \"first_name\": [\"Alice\", \"Bob\", \"Charlie\", \"Charlie\"],\n",
        "    \"last_name\": [\"Smith\", \"Johnson\", \"Williams\", \"Williams\"],\n",
        "    \"WA_ID\": [1,2,4,4]\n",
        "})\n",
        "\n",
        "received_submissions_df = (\n",
        "        helpers.save_raw_values(df_inp=data,primary_key_col=\"WA_ID\")\n",
        ")\n",
        "\n",
        "helpers.gt_style(data)"
      ],
      "id": "55e3b1a8",
      "execution_count": null,
      "outputs": []
    },
    {
      "cell_type": "code",
      "metadata": {},
      "source": [
        "helpers.gt_style(received_submissions_df)"
      ],
      "id": "fc9d6496",
      "execution_count": null,
      "outputs": []
    }
  ],
  "metadata": {
    "kernelspec": {
      "display_name": "Python 3",
      "language": "python",
      "name": "python3"
    }
  },
  "nbformat": 4,
  "nbformat_minor": 5
}